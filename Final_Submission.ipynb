{
  "nbformat": 4,
  "nbformat_minor": 5,
  "metadata": {
    "kernelspec": {
      "display_name": "Python 3",
      "language": "python",
      "name": "python3"
    },
    "language_info": {
      "codemirror_mode": {
        "name": "ipython",
        "version": 3
      },
      "file_extension": ".py",
      "mimetype": "text/x-python",
      "name": "python",
      "nbconvert_exporter": "python",
      "pygments_lexer": "ipython3",
      "version": "3.8.8"
    },
    "colab": {
      "name": "Final Submission.ipynb",
      "provenance": [],
      "collapsed_sections": []
    },
    "widgets": {
      "application/vnd.jupyter.widget-state+json": {
        "447842fd583041ae942b991381cd2780": {
          "model_module": "@jupyter-widgets/controls",
          "model_name": "HBoxModel",
          "model_module_version": "1.5.0",
          "state": {
            "_view_name": "HBoxView",
            "_dom_classes": [],
            "_model_name": "HBoxModel",
            "_view_module": "@jupyter-widgets/controls",
            "_model_module_version": "1.5.0",
            "_view_count": null,
            "_view_module_version": "1.5.0",
            "box_style": "",
            "layout": "IPY_MODEL_e1c1b363f5cb42dea5f8a8c45879e3d5",
            "_model_module": "@jupyter-widgets/controls",
            "children": [
              "IPY_MODEL_2b1628aa3dd94ffb8d7601608ec7d933",
              "IPY_MODEL_44c20a3ffede41f493fc0a40dd27157c"
            ]
          }
        },
        "e1c1b363f5cb42dea5f8a8c45879e3d5": {
          "model_module": "@jupyter-widgets/base",
          "model_name": "LayoutModel",
          "model_module_version": "1.2.0",
          "state": {
            "_view_name": "LayoutView",
            "grid_template_rows": null,
            "right": null,
            "justify_content": null,
            "_view_module": "@jupyter-widgets/base",
            "overflow": null,
            "_model_module_version": "1.2.0",
            "_view_count": null,
            "flex_flow": null,
            "width": null,
            "min_width": null,
            "border": null,
            "align_items": null,
            "bottom": null,
            "_model_module": "@jupyter-widgets/base",
            "top": null,
            "grid_column": null,
            "overflow_y": null,
            "overflow_x": null,
            "grid_auto_flow": null,
            "grid_area": null,
            "grid_template_columns": null,
            "flex": null,
            "_model_name": "LayoutModel",
            "justify_items": null,
            "grid_row": null,
            "max_height": null,
            "align_content": null,
            "visibility": null,
            "align_self": null,
            "height": null,
            "min_height": null,
            "padding": null,
            "grid_auto_rows": null,
            "grid_gap": null,
            "max_width": null,
            "order": null,
            "_view_module_version": "1.2.0",
            "grid_template_areas": null,
            "object_position": null,
            "object_fit": null,
            "grid_auto_columns": null,
            "margin": null,
            "display": null,
            "left": null
          }
        },
        "2b1628aa3dd94ffb8d7601608ec7d933": {
          "model_module": "@jupyter-widgets/controls",
          "model_name": "FloatProgressModel",
          "model_module_version": "1.5.0",
          "state": {
            "_view_name": "ProgressView",
            "style": "IPY_MODEL_7efcf419cc4c4c87a48b6f28a81a89ec",
            "_dom_classes": [],
            "description": "parsing log, completed traces :: 100%",
            "_model_name": "FloatProgressModel",
            "bar_style": "success",
            "max": 150370,
            "_view_module": "@jupyter-widgets/controls",
            "_model_module_version": "1.5.0",
            "value": 150370,
            "_view_count": null,
            "_view_module_version": "1.5.0",
            "orientation": "horizontal",
            "min": 0,
            "description_tooltip": null,
            "_model_module": "@jupyter-widgets/controls",
            "layout": "IPY_MODEL_75a1a919032b4b0da8bdc2e599de307b"
          }
        },
        "44c20a3ffede41f493fc0a40dd27157c": {
          "model_module": "@jupyter-widgets/controls",
          "model_name": "HTMLModel",
          "model_module_version": "1.5.0",
          "state": {
            "_view_name": "HTMLView",
            "style": "IPY_MODEL_3c625b0b1d294a0a9cd9fcca81c4a88e",
            "_dom_classes": [],
            "description": "",
            "_model_name": "HTMLModel",
            "placeholder": "​",
            "_view_module": "@jupyter-widgets/controls",
            "_model_module_version": "1.5.0",
            "value": " 150370/150370 [01:09&lt;00:00, 2150.57it/s]",
            "_view_count": null,
            "_view_module_version": "1.5.0",
            "description_tooltip": null,
            "_model_module": "@jupyter-widgets/controls",
            "layout": "IPY_MODEL_9d8d203a08fb4c40a327bf46e371ab6d"
          }
        },
        "7efcf419cc4c4c87a48b6f28a81a89ec": {
          "model_module": "@jupyter-widgets/controls",
          "model_name": "ProgressStyleModel",
          "model_module_version": "1.5.0",
          "state": {
            "_view_name": "StyleView",
            "_model_name": "ProgressStyleModel",
            "description_width": "initial",
            "_view_module": "@jupyter-widgets/base",
            "_model_module_version": "1.5.0",
            "_view_count": null,
            "_view_module_version": "1.2.0",
            "bar_color": null,
            "_model_module": "@jupyter-widgets/controls"
          }
        },
        "75a1a919032b4b0da8bdc2e599de307b": {
          "model_module": "@jupyter-widgets/base",
          "model_name": "LayoutModel",
          "model_module_version": "1.2.0",
          "state": {
            "_view_name": "LayoutView",
            "grid_template_rows": null,
            "right": null,
            "justify_content": null,
            "_view_module": "@jupyter-widgets/base",
            "overflow": null,
            "_model_module_version": "1.2.0",
            "_view_count": null,
            "flex_flow": null,
            "width": null,
            "min_width": null,
            "border": null,
            "align_items": null,
            "bottom": null,
            "_model_module": "@jupyter-widgets/base",
            "top": null,
            "grid_column": null,
            "overflow_y": null,
            "overflow_x": null,
            "grid_auto_flow": null,
            "grid_area": null,
            "grid_template_columns": null,
            "flex": null,
            "_model_name": "LayoutModel",
            "justify_items": null,
            "grid_row": null,
            "max_height": null,
            "align_content": null,
            "visibility": null,
            "align_self": null,
            "height": null,
            "min_height": null,
            "padding": null,
            "grid_auto_rows": null,
            "grid_gap": null,
            "max_width": null,
            "order": null,
            "_view_module_version": "1.2.0",
            "grid_template_areas": null,
            "object_position": null,
            "object_fit": null,
            "grid_auto_columns": null,
            "margin": null,
            "display": null,
            "left": null
          }
        },
        "3c625b0b1d294a0a9cd9fcca81c4a88e": {
          "model_module": "@jupyter-widgets/controls",
          "model_name": "DescriptionStyleModel",
          "model_module_version": "1.5.0",
          "state": {
            "_view_name": "StyleView",
            "_model_name": "DescriptionStyleModel",
            "description_width": "",
            "_view_module": "@jupyter-widgets/base",
            "_model_module_version": "1.5.0",
            "_view_count": null,
            "_view_module_version": "1.2.0",
            "_model_module": "@jupyter-widgets/controls"
          }
        },
        "9d8d203a08fb4c40a327bf46e371ab6d": {
          "model_module": "@jupyter-widgets/base",
          "model_name": "LayoutModel",
          "model_module_version": "1.2.0",
          "state": {
            "_view_name": "LayoutView",
            "grid_template_rows": null,
            "right": null,
            "justify_content": null,
            "_view_module": "@jupyter-widgets/base",
            "overflow": null,
            "_model_module_version": "1.2.0",
            "_view_count": null,
            "flex_flow": null,
            "width": null,
            "min_width": null,
            "border": null,
            "align_items": null,
            "bottom": null,
            "_model_module": "@jupyter-widgets/base",
            "top": null,
            "grid_column": null,
            "overflow_y": null,
            "overflow_x": null,
            "grid_auto_flow": null,
            "grid_area": null,
            "grid_template_columns": null,
            "flex": null,
            "_model_name": "LayoutModel",
            "justify_items": null,
            "grid_row": null,
            "max_height": null,
            "align_content": null,
            "visibility": null,
            "align_self": null,
            "height": null,
            "min_height": null,
            "padding": null,
            "grid_auto_rows": null,
            "grid_gap": null,
            "max_width": null,
            "order": null,
            "_view_module_version": "1.2.0",
            "grid_template_areas": null,
            "object_position": null,
            "object_fit": null,
            "grid_auto_columns": null,
            "margin": null,
            "display": null,
            "left": null
          }
        }
      }
    }
  },
  "cells": [
    {
      "cell_type": "markdown",
      "metadata": {
        "id": "v6aa9WLaXSqG"
      },
      "source": [
        "## Dependencies and Setup"
      ],
      "id": "v6aa9WLaXSqG"
    },
    {
      "cell_type": "markdown",
      "metadata": {
        "id": "eTQbxz5hUeRZ"
      },
      "source": [
        "### Install Process Mining for Python"
      ],
      "id": "eTQbxz5hUeRZ"
    },
    {
      "cell_type": "code",
      "metadata": {
        "id": "b691846c",
        "colab": {
          "base_uri": "https://localhost:8080/"
        },
        "outputId": "7c415ef0-2ce2-442a-f65c-46c04eec3f44"
      },
      "source": [
        "!pip install pm4py\n",
        "!pip install jellyfish\n"
      ],
      "id": "b691846c",
      "execution_count": null,
      "outputs": [
        {
          "output_type": "stream",
          "text": [
            "Collecting pm4py\n",
            "  Downloading pm4py-2.2.11.1-py3-none-any.whl (1.5 MB)\n",
            "\u001b[K     |████████████████████████████████| 1.5 MB 8.1 MB/s \n",
            "\u001b[?25hCollecting pulp<=2.1\n",
            "  Downloading PuLP-2.1-py3-none-any.whl (40.6 MB)\n",
            "\u001b[K     |████████████████████████████████| 40.6 MB 70 kB/s \n",
            "\u001b[?25hRequirement already satisfied: tqdm in /usr/local/lib/python3.7/dist-packages (from pm4py) (4.41.1)\n",
            "Requirement already satisfied: matplotlib in /usr/local/lib/python3.7/dist-packages (from pm4py) (3.2.2)\n",
            "Requirement already satisfied: cvxopt in /usr/local/lib/python3.7/dist-packages (from pm4py) (1.2.6)\n",
            "Requirement already satisfied: graphviz in /usr/local/lib/python3.7/dist-packages (from pm4py) (0.10.1)\n",
            "Requirement already satisfied: numpy!=1.19.4 in /usr/local/lib/python3.7/dist-packages (from pm4py) (1.19.5)\n",
            "Requirement already satisfied: pytz in /usr/local/lib/python3.7/dist-packages (from pm4py) (2018.9)\n",
            "Collecting deprecation\n",
            "  Downloading deprecation-2.1.0-py2.py3-none-any.whl (11 kB)\n",
            "Requirement already satisfied: sympy in /usr/local/lib/python3.7/dist-packages (from pm4py) (1.7.1)\n",
            "Requirement already satisfied: scikit-learn in /usr/local/lib/python3.7/dist-packages (from pm4py) (0.22.2.post1)\n",
            "Requirement already satisfied: scipy in /usr/local/lib/python3.7/dist-packages (from pm4py) (1.4.1)\n",
            "Collecting jsonpickle\n",
            "  Downloading jsonpickle-2.0.0-py2.py3-none-any.whl (37 kB)\n",
            "Requirement already satisfied: pandas in /usr/local/lib/python3.7/dist-packages (from pm4py) (1.1.5)\n",
            "Requirement already satisfied: networkx in /usr/local/lib/python3.7/dist-packages (from pm4py) (2.5.1)\n",
            "Requirement already satisfied: intervaltree in /usr/local/lib/python3.7/dist-packages (from pm4py) (2.1.0)\n",
            "Requirement already satisfied: pydotplus in /usr/local/lib/python3.7/dist-packages (from pm4py) (2.0.2)\n",
            "Collecting stringdist\n",
            "  Downloading StringDist-1.0.9.tar.gz (7.4 kB)\n",
            "Requirement already satisfied: lxml in /usr/local/lib/python3.7/dist-packages (from pm4py) (4.2.6)\n",
            "Collecting pyvis\n",
            "  Downloading pyvis-0.1.9-py3-none-any.whl (23 kB)\n",
            "Requirement already satisfied: pyparsing>=2.0.1 in /usr/local/lib/python3.7/dist-packages (from pulp<=2.1->pm4py) (2.4.7)\n",
            "Requirement already satisfied: packaging in /usr/local/lib/python3.7/dist-packages (from deprecation->pm4py) (21.0)\n",
            "Requirement already satisfied: sortedcontainers in /usr/local/lib/python3.7/dist-packages (from intervaltree->pm4py) (2.4.0)\n",
            "Requirement already satisfied: importlib-metadata in /usr/local/lib/python3.7/dist-packages (from jsonpickle->pm4py) (4.6.1)\n",
            "Requirement already satisfied: typing-extensions>=3.6.4 in /usr/local/lib/python3.7/dist-packages (from importlib-metadata->jsonpickle->pm4py) (3.7.4.3)\n",
            "Requirement already satisfied: zipp>=0.5 in /usr/local/lib/python3.7/dist-packages (from importlib-metadata->jsonpickle->pm4py) (3.5.0)\n",
            "Requirement already satisfied: cycler>=0.10 in /usr/local/lib/python3.7/dist-packages (from matplotlib->pm4py) (0.10.0)\n",
            "Requirement already satisfied: python-dateutil>=2.1 in /usr/local/lib/python3.7/dist-packages (from matplotlib->pm4py) (2.8.1)\n",
            "Requirement already satisfied: kiwisolver>=1.0.1 in /usr/local/lib/python3.7/dist-packages (from matplotlib->pm4py) (1.3.1)\n",
            "Requirement already satisfied: six in /usr/local/lib/python3.7/dist-packages (from cycler>=0.10->matplotlib->pm4py) (1.15.0)\n",
            "Requirement already satisfied: decorator<5,>=4.3 in /usr/local/lib/python3.7/dist-packages (from networkx->pm4py) (4.4.2)\n",
            "Requirement already satisfied: ipython>=5.3.0 in /usr/local/lib/python3.7/dist-packages (from pyvis->pm4py) (5.5.0)\n",
            "Requirement already satisfied: jinja2>=2.9.6 in /usr/local/lib/python3.7/dist-packages (from pyvis->pm4py) (2.11.3)\n",
            "Requirement already satisfied: pickleshare in /usr/local/lib/python3.7/dist-packages (from ipython>=5.3.0->pyvis->pm4py) (0.7.5)\n",
            "Requirement already satisfied: pexpect in /usr/local/lib/python3.7/dist-packages (from ipython>=5.3.0->pyvis->pm4py) (4.8.0)\n",
            "Requirement already satisfied: prompt-toolkit<2.0.0,>=1.0.4 in /usr/local/lib/python3.7/dist-packages (from ipython>=5.3.0->pyvis->pm4py) (1.0.18)\n",
            "Requirement already satisfied: pygments in /usr/local/lib/python3.7/dist-packages (from ipython>=5.3.0->pyvis->pm4py) (2.6.1)\n",
            "Requirement already satisfied: simplegeneric>0.8 in /usr/local/lib/python3.7/dist-packages (from ipython>=5.3.0->pyvis->pm4py) (0.8.1)\n",
            "Requirement already satisfied: setuptools>=18.5 in /usr/local/lib/python3.7/dist-packages (from ipython>=5.3.0->pyvis->pm4py) (57.2.0)\n",
            "Requirement already satisfied: traitlets>=4.2 in /usr/local/lib/python3.7/dist-packages (from ipython>=5.3.0->pyvis->pm4py) (5.0.5)\n",
            "Requirement already satisfied: MarkupSafe>=0.23 in /usr/local/lib/python3.7/dist-packages (from jinja2>=2.9.6->pyvis->pm4py) (2.0.1)\n",
            "Requirement already satisfied: wcwidth in /usr/local/lib/python3.7/dist-packages (from prompt-toolkit<2.0.0,>=1.0.4->ipython>=5.3.0->pyvis->pm4py) (0.2.5)\n",
            "Requirement already satisfied: ipython-genutils in /usr/local/lib/python3.7/dist-packages (from traitlets>=4.2->ipython>=5.3.0->pyvis->pm4py) (0.2.0)\n",
            "Requirement already satisfied: ptyprocess>=0.5 in /usr/local/lib/python3.7/dist-packages (from pexpect->ipython>=5.3.0->pyvis->pm4py) (0.7.0)\n",
            "Requirement already satisfied: joblib>=0.11 in /usr/local/lib/python3.7/dist-packages (from scikit-learn->pm4py) (1.0.1)\n",
            "Requirement already satisfied: mpmath>=0.19 in /usr/local/lib/python3.7/dist-packages (from sympy->pm4py) (1.2.1)\n",
            "Building wheels for collected packages: stringdist\n",
            "  Building wheel for stringdist (setup.py) ... \u001b[?25l\u001b[?25hdone\n",
            "  Created wheel for stringdist: filename=StringDist-1.0.9-cp37-cp37m-linux_x86_64.whl size=23588 sha256=96514fa72d030bf1db0a6608559ecc4d6774c9e9d123796c00bf659c5e798815\n",
            "  Stored in directory: /root/.cache/pip/wheels/d7/9c/d4/63bc3d8931de0980b9e4a724dea290bb40b8b1b2bd6227c8da\n",
            "Successfully built stringdist\n",
            "Installing collected packages: jsonpickle, stringdist, pyvis, pulp, deprecation, pm4py\n",
            "Successfully installed deprecation-2.1.0 jsonpickle-2.0.0 pm4py-2.2.11.1 pulp-2.1 pyvis-0.1.9 stringdist-1.0.9\n",
            "Collecting jellyfish\n",
            "  Downloading jellyfish-0.8.4-py3-none-any.whl (10 kB)\n",
            "Installing collected packages: jellyfish\n",
            "Successfully installed jellyfish-0.8.4\n"
          ],
          "name": "stdout"
        }
      ]
    },
    {
      "cell_type": "code",
      "metadata": {
        "id": "44b1d5bc"
      },
      "source": [
        "from pprint import pprint\n",
        "import pm4py\n",
        "import copy\n",
        "import numpy\n",
        "import jellyfish\n",
        "import math"
      ],
      "id": "44b1d5bc",
      "execution_count": null,
      "outputs": []
    },
    {
      "cell_type": "markdown",
      "metadata": {
        "id": "EZSKOyJyUugz"
      },
      "source": [
        "### Import dataset and save as event log\n"
      ],
      "id": "EZSKOyJyUugz"
    },
    {
      "cell_type": "code",
      "metadata": {
        "colab": {
          "base_uri": "https://localhost:8080/",
          "height": 84,
          "referenced_widgets": [
            "447842fd583041ae942b991381cd2780",
            "e1c1b363f5cb42dea5f8a8c45879e3d5",
            "2b1628aa3dd94ffb8d7601608ec7d933",
            "44c20a3ffede41f493fc0a40dd27157c",
            "7efcf419cc4c4c87a48b6f28a81a89ec",
            "75a1a919032b4b0da8bdc2e599de307b",
            "3c625b0b1d294a0a9cd9fcca81c4a88e",
            "9d8d203a08fb4c40a327bf46e371ab6d"
          ]
        },
        "id": "759025d2",
        "outputId": "0dcf249e-dd71-40df-abba-5960197b803b"
      },
      "source": [
        "\n",
        "\n",
        "\n",
        "from google.colab import drive\n",
        "drive.mount('/content/drive')\n",
        "log_file = '/content/drive/MyDrive/pathToXesLogFile'\n",
        "log = pm4py.read_xes(log_file)"
      ],
      "id": "759025d2",
      "execution_count": null,
      "outputs": [
        {
          "output_type": "stream",
          "text": [
            "Mounted at /content/drive\n"
          ],
          "name": "stdout"
        },
        {
          "output_type": "display_data",
          "data": {
            "application/vnd.jupyter.widget-view+json": {
              "model_id": "447842fd583041ae942b991381cd2780",
              "version_minor": 0,
              "version_major": 2
            },
            "text/plain": [
              "HBox(children=(FloatProgress(value=0.0, description='parsing log, completed traces :: ', max=150370.0, style=P…"
            ]
          },
          "metadata": {
            "tags": []
          }
        },
        {
          "output_type": "stream",
          "text": [
            "\n"
          ],
          "name": "stdout"
        }
      ]
    },
    {
      "cell_type": "markdown",
      "metadata": {
        "id": "95HbBk_1XZVW"
      },
      "source": [
        "## Preprocessing"
      ],
      "id": "95HbBk_1XZVW"
    },
    {
      "cell_type": "markdown",
      "metadata": {
        "id": "9O_YqFZ8VTRL"
      },
      "source": [
        "### Search for string attributes and save the according max string lenght for every attribute"
      ],
      "id": "9O_YqFZ8VTRL"
    },
    {
      "cell_type": "code",
      "metadata": {
        "id": "da51897c"
      },
      "source": [
        "# All string keys\n",
        "\n",
        "seen_keys = []\n",
        "\n",
        "for t in log:\n",
        "    for i in range(len(t)):\n",
        "        event = t[i]\n",
        "        keys = event.keys()\n",
        "        for key in keys:\n",
        "            if (type(event[key]) == str):\n",
        "                seen_keys.append(key)\n",
        "                seen_keys = list(dict.fromkeys(seen_keys))\n",
        "\n",
        "string_keys = dict.fromkeys(seen_keys)\n",
        "\n",
        "keys2 = string_keys.keys()\n",
        "for key in keys2:\n",
        "    string_keys[key] = 0\n",
        "\n",
        "#max string_keys\n",
        "for t in log:\n",
        "    for i in range(len(t)):\n",
        "        for key in keys2:\n",
        "            if key in t[i]:\n",
        "                if len(t[i][key]) > string_keys[key]:\n",
        "                    string_keys[key] = len(t[i][key])"
      ],
      "id": "da51897c",
      "execution_count": null,
      "outputs": []
    },
    {
      "cell_type": "code",
      "metadata": {
        "id": "a2c100ee"
      },
      "source": [
        "for t in log:\n",
        "  for i in range(len(t)):\n",
        "    event = t[i]\n",
        "    keys = event.keys()\n",
        "    for key in keys:\n",
        "      if (type(event[key]) == str):\n",
        "        seen_keys.append(key)\n",
        "        seen_keys = list(dict.fromkeys(seen_keys))"
      ],
      "id": "a2c100ee",
      "execution_count": null,
      "outputs": []
    },
    {
      "cell_type": "markdown",
      "metadata": {
        "id": "-pOYJ8ZmViM4"
      },
      "source": [
        "### Search for all numeric attributes and save the attribute names "
      ],
      "id": "-pOYJ8ZmViM4"
    },
    {
      "cell_type": "code",
      "metadata": {
        "id": "d4626112"
      },
      "source": [
        "\n",
        "# All numeric keys\n",
        "\n",
        "seen_keys = []\n",
        "\n",
        "for t in log:\n",
        "  for i in range(len(t)):\n",
        "    event = t[i]\n",
        "    keys = event.keys()\n",
        "    for key in keys:\n",
        "      if (type(event[key]) == float or type(event[key]) == int):\n",
        "        seen_keys.append(key)\n",
        "        seen_keys = list(dict.fromkeys(seen_keys))\n",
        "\n",
        "seen_keys = dict.fromkeys(seen_keys)"
      ],
      "id": "d4626112",
      "execution_count": null,
      "outputs": []
    },
    {
      "cell_type": "markdown",
      "metadata": {
        "id": "f-MKh7NMV6a_"
      },
      "source": [
        "### Calculate the mean values of all numeric attributes"
      ],
      "id": "f-MKh7NMV6a_"
    },
    {
      "cell_type": "code",
      "metadata": {
        "colab": {
          "base_uri": "https://localhost:8080/"
        },
        "id": "2f721270",
        "outputId": "f93835ba-1de3-4fcc-fea5-94b0add96104"
      },
      "source": [
        "# mean values\n",
        "sum = 0\n",
        "\n",
        "seen_keys = []\n",
        "\n",
        "for t in log:\n",
        "  for i in range(len(t)):\n",
        "    event = t[i]\n",
        "    keys = event.keys()\n",
        "    for key in keys:\n",
        "      if (type(event[key]) == float or type(event[key]) == int):\n",
        "        seen_keys.append(key)\n",
        "        seen_keys = list(dict.fromkeys(seen_keys))\n",
        "\n",
        "mean_keys = dict.fromkeys(seen_keys)\n",
        "keys2 = mean_keys.keys()\n",
        "for key in keys2:\n",
        "  mean_keys[key] = 0\n",
        "\n",
        "counter_keys = copy.deepcopy(mean_keys)\n",
        "\n",
        "for t in log:\n",
        "  for i in range(len(t)):\n",
        "    for key in keys2:\n",
        "      if key in t[i]  :\n",
        "        mean_keys[key] += t[i][key]\n",
        "        counter_keys[key] += 1\n",
        "\n",
        "for key in keys2:\n",
        "  mean_keys[key] = mean_keys[key] / counter_keys[key]\n",
        "  print(mean_keys[key])"
      ],
      "id": "2f721270",
      "execution_count": null,
      "outputs": [
        {
          "output_type": "stream",
          "text": [
            "63.6816560395868\n",
            "17.815603519745885\n",
            "113.2466582430006\n",
            "0.0788787657112456\n",
            "11.948984392276309\n",
            "46.41002731923214\n",
            "0.0\n"
          ],
          "name": "stdout"
        }
      ]
    },
    {
      "cell_type": "markdown",
      "metadata": {
        "id": "h2_5HGh1WLQ8"
      },
      "source": [
        "### Calculate the std. deviation of all numeric values"
      ],
      "id": "h2_5HGh1WLQ8"
    },
    {
      "cell_type": "code",
      "metadata": {
        "colab": {
          "base_uri": "https://localhost:8080/"
        },
        "id": "d7116bec",
        "outputId": "260c4c69-e9c5-4092-e7f4-48561d25adef"
      },
      "source": [
        "\n",
        "# std deviation of values\n",
        "\n",
        "deviation_keys = dict.fromkeys(seen_keys)\n",
        "keys2 = deviation_keys.keys()\n",
        "for key in keys2:\n",
        "  deviation_keys[key] = []\n",
        "\n",
        "for t in log:\n",
        "  for i in range(len(t)):\n",
        "    for key in keys2:\n",
        "      if key in t[i]:\n",
        "        deviation_keys[key].append(t[i][key])\n",
        "\n",
        "for key in keys2:\n",
        "  deviation_keys[key] = numpy.std(deviation_keys[key]) "
      ],
      "id": "d7116bec",
      "execution_count": null,
      "outputs": [
        {
          "output_type": "stream",
          "text": [
            "89.67779636777881\n",
            "36.77930126804085\n",
            "68.21924855798667\n",
            "0.5776847046687658\n",
            "4.023171014461607\n",
            "39.345307223637775\n",
            "0.0\n"
          ],
          "name": "stdout"
        }
      ]
    },
    {
      "cell_type": "markdown",
      "metadata": {
        "id": "z6jFihcrWPsb"
      },
      "source": [
        "### Apply the z score normalisation to the log"
      ],
      "id": "z6jFihcrWPsb"
    },
    {
      "cell_type": "code",
      "metadata": {
        "id": "c39e5ad3"
      },
      "source": [
        "# z score of values\n",
        "\n",
        "numeric_keys = dict.fromkeys(seen_keys)\n",
        "\n",
        "z_log = copy.deepcopy(log)\n",
        "\n",
        "for t in z_log:\n",
        "  for i in range(len(t)):\n",
        "    for key in numeric_keys.keys():\n",
        "      if key in t[i] and deviation_keys[key] != 0:\n",
        "        t[i][key] = (t[i][key] - mean_keys[key] ) / deviation_keys[key]"
      ],
      "id": "c39e5ad3",
      "execution_count": null,
      "outputs": []
    },
    {
      "cell_type": "markdown",
      "metadata": {
        "id": "mZGtUlZzWfzO"
      },
      "source": [
        "### Calculate the minimum and maximum timestamp per trace"
      ],
      "id": "mZGtUlZzWfzO"
    },
    {
      "cell_type": "code",
      "metadata": {
        "id": "4b3445db"
      },
      "source": [
        "# timestamp min max values per trace\n",
        "\n",
        "min_timestamps = []\n",
        "\n",
        "max_timestamps = []\n",
        "\n",
        "for t in log:\n",
        "  temp_min_timestamp = t[0]['time:timestamp']\n",
        "  temp_max_timestamp = t[0]['time:timestamp']\n",
        "  for i in range(len(t)):\n",
        "    if temp_min_timestamp > t[i]['time:timestamp']:\n",
        "      temp_min_timestamp = t[i]['time:timestamp']\n",
        "    if temp_max_timestamp < t[i]['time:timestamp']:\n",
        "      temp_max_timestamp = t[i]['time:timestamp']\n",
        "  min_timestamps.append(temp_min_timestamp)\n",
        "  max_timestamps.append(temp_max_timestamp)"
      ],
      "id": "4b3445db",
      "execution_count": null,
      "outputs": []
    },
    {
      "cell_type": "markdown",
      "metadata": {
        "id": "ruSChKBJWklH"
      },
      "source": [
        "### Apply min-max normalisation on timestamps"
      ],
      "id": "ruSChKBJWklH"
    },
    {
      "cell_type": "code",
      "metadata": {
        "id": "81b7681f"
      },
      "source": [
        "# normalize timestamps\n",
        "\n",
        "normalised_log = copy.deepcopy(z_log)\n",
        "\n",
        "for y in range (len(log)):\n",
        "  for i in range (len(log[y])):\n",
        "    if max_timestamps[y] == min_timestamps[y]:\n",
        "      normalised_time = 0\n",
        "    else: \n",
        "      normalised_time = (log[y][i]['time:timestamp'] - min_timestamps[y]) / (max_timestamps[y] - min_timestamps[y])\n",
        "    normalised_log[y][i]['time:timestamp'] = normalised_time"
      ],
      "id": "81b7681f",
      "execution_count": null,
      "outputs": []
    },
    {
      "cell_type": "markdown",
      "metadata": {
        "id": "vwfiHIp9WuCz"
      },
      "source": [
        "### Define distance algorithm"
      ],
      "id": "vwfiHIp9WuCz"
    },
    {
      "cell_type": "code",
      "metadata": {
        "id": "a6bdc361"
      },
      "source": [
        "# distance algorithm\n",
        "\n",
        "def similarity(dict1, dict2, treshhold, weights):\n",
        "    longest_value = 0\n",
        "    distance_score = 0\n",
        "    distance_sum = 0\n",
        "    d1_keys = (dict1.keys())\n",
        "    d2_keys = (dict2.keys())\n",
        "\n",
        "    # Combine the keys from both events to calculate the vector distance between both of them\n",
        "    both_keys = list(dict.fromkeys(dict1))\n",
        "    for key in d2_keys:\n",
        "      if not (key in both_keys):\n",
        "        both_keys.append(key)\n",
        "\n",
        "    both_keys = dict.fromkeys(both_keys)\n",
        "    for key in both_keys:\n",
        "      ## Timestamp distance\n",
        "      if (key == 'time:timestamp'):\n",
        "        diff = (dict1[key] - dict2[key])\n",
        "        both_keys[key] = pow(diff, 2)\n",
        "\n",
        "      # If no value is present for the key set a default value, otherwise take value from event\n",
        "\n",
        "      # Check if value is numeric\n",
        "      elif key in numeric_keys:\n",
        "        if key not in dict1:\n",
        "          d1_score = 0 # is 0 the best solution here?\n",
        "        else:\n",
        "          d1_score = dict1[key] \n",
        "        if key not in dict2:\n",
        "          d2_score = 0 # is 0 the best solution here?\n",
        "        else:\n",
        "          d2_score = dict2[key]\n",
        "\n",
        "        diff = d1_score - d2_score\n",
        "        both_keys[key] = pow(diff, 2)\n",
        "        if(key == 'totalPaymentAmount'):\n",
        "          both_keys[key] = both_keys[key]\n",
        "\n",
        "\n",
        "      # Otherwise value must be a string\n",
        "      else:\n",
        "        if key not in dict1:\n",
        "          d1_string = '' # is '' the best solution here?\n",
        "        else:\n",
        "          d1_string = dict1[key] \n",
        "        if key not in dict2:\n",
        "          d2_string = '' # is '' the best solution here?\n",
        "        else:\n",
        "          d2_string = dict2[key]\n",
        "\n",
        "        # calculate levenstein distance\n",
        "        lev_dist = jellyfish.levenshtein_distance(d1_string, d2_string)\n",
        "        # execute normalization\n",
        "        distance_percentage = lev_dist / string_keys[key]\n",
        "        both_keys[key] = pow(distance_percentage, 2)\n",
        "     \n",
        "    # include weights and calculate euclidean distance\n",
        "    for key in both_keys:\n",
        "      distance_sum +=  weights[key] * both_keys[key]\n",
        "    \n",
        "    distance_score = math.sqrt(distance_sum) \n",
        "\n",
        "    # If distanz is under treshhold return true\n",
        "    if distance_score < treshhold:\n",
        "      #print(distance_score)\n",
        "      return True\n",
        "    else:\n",
        "      return False"
      ],
      "id": "a6bdc361",
      "execution_count": null,
      "outputs": []
    },
    {
      "cell_type": "markdown",
      "metadata": {
        "id": "Gdwr_ec0YGLK"
      },
      "source": [
        "### Create weight dictionary"
      ],
      "id": "Gdwr_ec0YGLK"
    },
    {
      "cell_type": "code",
      "metadata": {
        "colab": {
          "base_uri": "https://localhost:8080/"
        },
        "id": "a8fc5017",
        "outputId": "8e41730b-1680-4f81-ec16-ec75e9080f2b"
      },
      "source": [
        "seen_keys = []\n",
        "\n",
        "for t in log:\n",
        "  for i in range(len(t)):\n",
        "    event = t[i]\n",
        "    keys = event.keys()\n",
        "    for key in keys:\n",
        "        seen_keys.append(key)\n",
        "        seen_keys = list(dict.fromkeys(seen_keys))\n",
        "\n",
        "weights = dict.fromkeys(seen_keys)\n",
        "for key in seen_keys:\n",
        "    weights[key] = 1"
      ],
      "id": "a8fc5017",
      "execution_count": null,
      "outputs": [
        {
          "output_type": "stream",
          "text": [
            "['amount', 'org:resource', 'dismissal', 'concept:name', 'vehicleClass', 'totalPaymentAmount', 'lifecycle:transition', 'time:timestamp', 'article', 'points', 'expense', 'notificationType', 'lastSent', 'paymentAmount', 'matricola']\n"
          ],
          "name": "stdout"
        }
      ]
    },
    {
      "cell_type": "markdown",
      "metadata": {
        "id": "QJhKsAFjYKr6"
      },
      "source": [
        "## Example execution with weights and treshhold of 0.1"
      ],
      "id": "QJhKsAFjYKr6"
    },
    {
      "cell_type": "code",
      "metadata": {
        "id": "146c929c"
      },
      "source": [
        "weights1 = copy.deepcopy(weights)\n",
        "#f.i. weights1['attribute']=10\n",
        "\n",
        "treshhold = 0.1\n",
        "\n",
        "for x in range(len(normalised_log)):\n",
        "  t = normalised_log[x]\n",
        "  for i in range(len(t)):\n",
        "    event_outer = t[i]\n",
        "    for y in range(i+1, len(t)):\n",
        "      event_inner = t[y]\n",
        "      flag = similarity(event_outer, event_inner, treshhold, weights1)\n",
        "      if flag == True:\n",
        "        print(t)\n",
        "       "
      ],
      "id": "146c929c",
      "execution_count": null,
      "outputs": []
    }
  ]
}